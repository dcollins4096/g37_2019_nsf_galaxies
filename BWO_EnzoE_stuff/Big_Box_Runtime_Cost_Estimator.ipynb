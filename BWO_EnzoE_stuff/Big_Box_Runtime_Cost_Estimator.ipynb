{
 "cells": [
  {
   "cell_type": "markdown",
   "metadata": {},
   "source": [
    "# Big Box simulation computational cost estimator\n",
    "\n",
    "Use with caution.  c_s and v_s are educated estimates.  Note that this assumes that the time steps are really constrained by the c_s and v_s given; the real average time step is somewhat lower than this, but my goal here is to actually give sensible limits so we don't ask for too little computational time. "
   ]
  },
  {
   "cell_type": "code",
   "execution_count": 1,
   "metadata": {},
   "outputs": [
    {
     "name": "stdout",
     "output_type": "stream",
     "text": [
      "Root grid dx:  17.439 com. kpc \n",
      "Max level dx:  1.090 com. kpc (L_max = 4)\n"
     ]
    }
   ],
   "source": [
    "Lbox = 25.0e+3 / 0.7 # 25 Mpc in kpc (the / 0.7 cleans out the factor of h)\n",
    "Nbox = 2048  # root grid num cells\n",
    "Max_level = 4  # maximum level of refinement\n",
    "\n",
    "# c_s and v_s are sound speed and peculiar gas speed in typical large halos in the box\n",
    "c_s = 100.0 * 1.e5  # 100 km/s in cm/s\n",
    "v_s = 300.0 * 1.e5  #  \n",
    "\n",
    "# assume that this cubed is the number of root grid cells per compute core (32 to 64 is sensible)\n",
    "cells_core = 64\n",
    "\n",
    "# this is Enzo's approximate speed on Pleiades with All The Physics, and thus we assume Enzo-E's\n",
    "cell_updates_core_second = 5.0e+3\n",
    "\n",
    "# at what redshift do you want this simulation to stop?\n",
    "simulation_end_redshift = 0.0\n",
    "\n",
    "# we assume that there are the same number of cells on each level (lagrangian-like refinement);\n",
    "# this multiplier increases that if we assume we have more aggressive refinement criteria\n",
    "cell_safety_factor = 2  \n",
    "\n",
    "# number of data outputs (required for data volume estimate)\n",
    "number_of_data_outputs = 100\n",
    "\n",
    "print(\"Root grid dx:  {:.3f} com. kpc \".format(Lbox/Nbox))\n",
    "print(\"Max level dx:  {:.3f} com. kpc (L_max = {:d})\".format(Lbox/Nbox/2**Max_level, Max_level))\n"
   ]
  },
  {
   "cell_type": "code",
   "execution_count": 2,
   "metadata": {},
   "outputs": [
    {
     "name": "stderr",
     "output_type": "stream",
     "text": [
      "/Users/molly/anaconda3/envs/astroconda/lib/python3.5/importlib/_bootstrap.py:222: RuntimeWarning: numpy.dtype size changed, may indicate binary incompatibility. Expected 96, got 88\n",
      "  return f(*args, **kwds)\n"
     ]
    },
    {
     "name": "stdout",
     "output_type": "stream",
     "text": [
      "simulation end time 13.77 Gyr\n"
     ]
    }
   ],
   "source": [
    "from astropy.cosmology import WMAP9 as cosmo\n",
    "\n",
    "simulation_end_time = (cosmo.age(simulation_end_redshift)).value  # simulation end time in gyr \n",
    "\n",
    "print(\"simulation end time {:.2f} Gyr\".format(simulation_end_time))"
   ]
  },
  {
   "cell_type": "code",
   "execution_count": 3,
   "metadata": {
    "collapsed": true
   },
   "outputs": [],
   "source": [
    "# some useful conversions\n",
    "\n",
    "Lbox_cm = Lbox * 3.08e21 # box in cm\n",
    "seconds_per_yr = 365.25*86400\n",
    "seconds_per_myr = 1.0e6 * seconds_per_yr\n",
    "universe_age = 13.8e9 * seconds_per_yr\n",
    "\n",
    "simulation_end_time_seconds = simulation_end_time * 1.0e9 * seconds_per_yr # simulation end time in gyr"
   ]
  },
  {
   "cell_type": "code",
   "execution_count": 4,
   "metadata": {},
   "outputs": [
    {
     "name": "stdout",
     "output_type": "stream",
     "text": [
      "Root grid timestep 8.51e+00 Myrs\n",
      "Max level timestep 5.32e-01 Myrs (L_max = 4)\n",
      "num RG timesteps per simulation: 1617.97\n",
      "num max level timesteps per simulation: 25887.52\n"
     ]
    }
   ],
   "source": [
    "# total cells in root grid\n",
    "total_cells_RG = Nbox**3\n",
    "\n",
    "dx_rg = Lbox_cm / Nbox     # root grid dx (in cm)\n",
    "\n",
    "dt_rg = 0.2 * dx_rg / (c_s + v_s)   # estimate of root grid timestep in seconds (hydro courant time)\n",
    "\n",
    "dx_max = dx_rg / 2**Max_level  # cell size at max level in cm\n",
    "\n",
    "dt_max = dt_rg / 2**Max_level  # timestep at max level in seconds\n",
    "\n",
    "# number of root grid timesteps\n",
    "num_rg_ts = simulation_end_time_seconds / dt_rg\n",
    "\n",
    "# number of max level timesteps (should be much larger than the root grid)\n",
    "num_maxlev_ts = simulation_end_time_seconds / dt_max\n",
    "\n",
    "print(\"Root grid timestep {:.2e} Myrs\".format(dt_rg/seconds_per_myr))\n",
    "print(\"Max level timestep {:.2e} Myrs (L_max = {:d})\".format(dt_max/seconds_per_myr,Max_level))\n",
    "\n",
    "print(\"num RG timesteps per simulation: {:.2f}\".format(num_rg_ts))\n",
    "print(\"num max level timesteps per simulation: {:.2f}\".format(num_maxlev_ts))"
   ]
  },
  {
   "cell_type": "markdown",
   "metadata": {},
   "source": [
    "## Conservative estimate\n",
    "\n",
    "This is extremely conservative, and represents a high upper bound to the estimated simulation runtime.  It assumes universal time steps for the simulation - namely, all time steps are at the timestep of the max level of refinement.  **This represents the worst-case scenario**, if Enzo-E's local causality-preserving time steps are not ready by the time this simulation is run."
   ]
  },
  {
   "cell_type": "code",
   "execution_count": 5,
   "metadata": {},
   "outputs": [
    {
     "name": "stdout",
     "output_type": "stream",
     "text": [
      "8.589935e+10 total cells\n",
      "2.223721e+15 total cell updates\n",
      "1.235401e+08 total core hours\n",
      "number of cores needed: 32768 at 64^3 root grid cells/core\n",
      "total wall clock hours:  3770.14\n"
     ]
    }
   ],
   "source": [
    "# total number of cells in simulation\n",
    "total_cells = total_cells_RG * (1+Max_level) * cell_safety_factor\n",
    "\n",
    "# total cell updates per max level timestep (which will dominate simulation time)\n",
    "total_cell_updates = total_cells * num_maxlev_ts\n",
    "\n",
    "# total core hours: cell updates / (cell updates per core-hour)\n",
    "total_core_hours = total_cell_updates / (cell_updates_core_second * 3600.0)\n",
    "\n",
    "print(\"{:e} total cells\".format(total_cells))\n",
    "\n",
    "print(\"{:e} total cell updates\".format(total_cell_updates))\n",
    "\n",
    "print(\"{:e} total core hours\".format(total_core_hours))\n",
    "\n",
    "cores = (Nbox//cells_core)**3\n",
    "\n",
    "print(\"number of cores needed:\", cores, \"at\", str(cells_core)+\"^3 root grid cells/core\")\n",
    "print(\"total wall clock hours:  {:.2f}\".format(total_core_hours/cores))"
   ]
  },
  {
   "cell_type": "markdown",
   "metadata": {},
   "source": [
    "## Optimistic estimate\n",
    "\n",
    "This is an estimate that should be taken as a lower bound to the estimated simulation runtime.  It assumes that each grid takes its own locally-determined time step.  **This represents the best-case scenario,** assuming Enzo-E's local causality-preserving timesteps are READY by the time the simulation is run."
   ]
  },
  {
   "cell_type": "code",
   "execution_count": 6,
   "metadata": {},
   "outputs": [
    {
     "name": "stdout",
     "output_type": "stream",
     "text": [
      "8.589935e+10 total cells\n",
      "8.616919e+14 total cell updates per\n",
      "4.787177e+07 total core hours\n",
      "number of cores needed: 32768 at 64^3 root grid cells/core\n",
      "total wall clock hours:  1460.93\n"
     ]
    }
   ],
   "source": [
    "total_cell_updates = 0\n",
    "\n",
    "# total cell updates per root grid timestep (grids at level L+1 take time steps that\n",
    "# are half the length of those on level L, on average)\n",
    "for i in range(Max_level+1):\n",
    "    total_cell_updates += total_cells_RG * 2.0**i\n",
    "    #print(\"level\", i, \"time steps\", 2.0**i, \"total updates\", total_cell_updates)\n",
    "\n",
    "# multiply in cell safety factor (taking into account ghost zones, etc.)\n",
    "total_cell_updates *= cell_safety_factor\n",
    "\n",
    "# times number of root grid time steps to figure out total number of cell updates\n",
    "total_cell_updates *= num_rg_ts \n",
    "\n",
    "# total core hours: cell updates / (cell updates per core-hour)\n",
    "total_core_hours = total_cell_updates / (cell_updates_core_second * 3600.0)\n",
    "\n",
    "print(\"{:e} total cells\".format(total_cells))\n",
    "\n",
    "print(\"{:e} total cell updates per\".format(total_cell_updates))\n",
    "\n",
    "print(\"{:e} total core hours\".format(total_core_hours))\n",
    "\n",
    "cores = (Nbox//cells_core)**3\n",
    "\n",
    "print(\"number of cores needed:\", cores, \"at\", str(cells_core)+\"^3 root grid cells/core\")\n",
    "print(\"total wall clock hours:  {:.2f}\".format(total_core_hours/cores))"
   ]
  },
  {
   "cell_type": "markdown",
   "metadata": {},
   "source": [
    "# Data volume estimation"
   ]
  },
  {
   "cell_type": "code",
   "execution_count": 7,
   "metadata": {},
   "outputs": [
    {
     "name": "stdout",
     "output_type": "stream",
     "text": [
      "each output is: 16.493 TB\n",
      "total raw data volume is: 1649.267 TB\n",
      "compressed data volume is:  329.853 TB\n"
     ]
    }
   ],
   "source": [
    "bytes_per_float = 8 # double precision\n",
    "\n",
    "# density, total energy, internal energy, 3*velocity, 3*mag field, 6 metal species + \"metal\",\n",
    "# 6 primordial species (atomic H, He, and e-), grav. potential\n",
    "num_fields = 24 \n",
    "\n",
    "# total_cells includes all levels _ safety factor\n",
    "data_volume_per_output = total_cells * bytes_per_float * num_fields \n",
    "\n",
    "print(\"each output is: {:.3f} TB\".format(data_volume_per_output/1.e12))\n",
    "\n",
    "# scales data volume up by expected number of data outputs\n",
    "data_volume_total = data_volume_per_output*number_of_data_outputs\n",
    "\n",
    "print(\"total raw data volume is: {:.3f} TB\".format(data_volume_total/1.e12))\n",
    "\n",
    "print(\"compressed data volume is:  {:.3f} TB\".format(data_volume_total/1.e12/5))"
   ]
  },
  {
   "cell_type": "code",
   "execution_count": null,
   "metadata": {
    "collapsed": true
   },
   "outputs": [],
   "source": []
  }
 ],
 "metadata": {
  "kernelspec": {
   "display_name": "Python 3",
   "language": "python",
   "name": "python3"
  },
  "language_info": {
   "codemirror_mode": {
    "name": "ipython",
    "version": 3
   },
   "file_extension": ".py",
   "mimetype": "text/x-python",
   "name": "python",
   "nbconvert_exporter": "python",
   "pygments_lexer": "ipython3",
   "version": "3.6.3"
  }
 },
 "nbformat": 4,
 "nbformat_minor": 2
}
